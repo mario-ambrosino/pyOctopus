{
 "cells": [
  {
   "cell_type": "code",
   "execution_count": 31,
   "metadata": {},
   "outputs": [],
   "source": [
    "import json\n",
    "import pywt\n",
    "import plotly.express as px\n",
    "import numpy as np"
   ]
  },
  {
   "cell_type": "code",
   "execution_count": 62,
   "metadata": {},
   "outputs": [],
   "source": [
    "MIN_SCALE = 1  # Minimum Scale\n",
    "MAX_SCALE = 201  # Maximum Scale. WARNING! Choose it w.r.t. RAM footprint TODO method to choose MAX_SCALE properly\n",
    "SCALE_JUMP = 1  # Gap between scales\n",
    "SCALES = list(range(MIN_SCALE, MAX_SCALE, SCALE_JUMP))  # Scales List\n",
    "WAVELET = \"cmor1-1\"  # Complex Morlet with Central Frequency and Central Width equal to 1\n",
    "samp_period = 1 / 2000"
   ]
  },
  {
   "cell_type": "code",
   "execution_count": 86,
   "metadata": {},
   "outputs": [],
   "source": [
    "X_path = \"export/Clusters/Cluster_7_Andata_C_X_2_nan_S_0_8.json\"\n",
    "Y_path = \"export/Clusters/Cluster_7_Andata_C_Y_2_nan_S_1_8.json\"\n",
    "Z_path = \"export/Clusters/Cluster_7_Andata_C_Z_2_nan_S_2_8.json\""
   ]
  },
  {
   "cell_type": "code",
   "execution_count": 87,
   "metadata": {},
   "outputs": [],
   "source": [
    "# open files\n",
    "fp_X = open(X_path, \"r\")\n",
    "fp_Y = open(Y_path, \"r\")\n",
    "fp_Z = open(Z_path, \"r\")\n",
    "# read files and parse json\n",
    "X, Y, Z = json.loads(fp_X.read()), json.loads(fp_Y.read()), json.loads(fp_Z.read())\n",
    "# close files\n",
    "fp_X.close()\n",
    "fp_Y.close()\n",
    "fp_Z.close()"
   ]
  },
  {
   "cell_type": "code",
   "execution_count": 88,
   "metadata": {},
   "outputs": [],
   "source": [
    "X_coeff, _ = pywt.cwt(\n",
    "    data = X[\"Accelerations\"],\n",
    "    scales = SCALES,\n",
    "    wavelet = WAVELET,\n",
    "    sampling_period = samp_period\n",
    "    )\n",
    "\n",
    "Y_coeff, _ = pywt.cwt(\n",
    "    data = Y[\"Accelerations\"],\n",
    "    scales = SCALES,\n",
    "    wavelet = WAVELET,\n",
    "    sampling_period = samp_period\n",
    "    )\n",
    "\n",
    "Z_coeff, _ = pywt.cwt(\n",
    "    data = Z[\"Accelerations\"],\n",
    "    scales = SCALES,\n",
    "    wavelet = WAVELET,\n",
    "    sampling_period = samp_period\n",
    "    )\n",
    "\n",
    "XX = np.abs(X_coeff**2)\n",
    "YY = np.abs(X_coeff**2)\n",
    "ZZ = np.abs(X_coeff**2)"
   ]
  },
  {
   "cell_type": "code",
   "execution_count": 89,
   "metadata": {},
   "outputs": [],
   "source": [
    "r = XX/(XX.max()-XX.min())\n",
    "g = YY/(YY.max()-YY.min())\n",
    "b = ZZ/(ZZ.max()-ZZ.min())\n",
    "rgb_uint8 = (np.dstack((r,g,b)) * 256).astype(np.uint8)"
   ]
  },
  {
   "cell_type": "code",
   "execution_count": 90,
   "metadata": {
    "scrolled": true
   },
   "outputs": [
    {
     "data": {
      "text/plain": [
       "(200, 512, 3)"
      ]
     },
     "execution_count": 90,
     "metadata": {},
     "output_type": "execute_result"
    }
   ],
   "source": [
    "rgb_uint8.shape"
   ]
  },
  {
   "cell_type": "code",
   "execution_count": 91,
   "metadata": {},
   "outputs": [],
   "source": [
    "from PIL import Image\n",
    "img = Image.fromarray(rgb_uint8, mode='RGB')"
   ]
  },
  {
   "cell_type": "code",
   "execution_count": 92,
   "metadata": {},
   "outputs": [],
   "source": [
    "img.save(\"test_rgb.png\")"
   ]
  },
  {
   "cell_type": "code",
   "execution_count": 93,
   "metadata": {},
   "outputs": [
    {
     "data": {
      "text/plain": [
       "array([[1.02942374e-06, 1.19053879e-05, 1.26532480e-05, ...,\n",
       "        9.59492146e-04, 3.08774480e-05, 1.59050693e-04],\n",
       "       [9.09251427e-06, 6.96610205e-05, 1.61718817e-04, ...,\n",
       "        2.50847650e-05, 2.25033771e-05, 2.53424567e-04],\n",
       "       [1.13949475e-04, 3.86416375e-04, 8.00121839e-04, ...,\n",
       "        2.83303610e-03, 2.87602299e-03, 2.72026260e-03],\n",
       "       ...,\n",
       "       [8.17965020e-03, 9.47268524e-03, 4.17660239e-03, ...,\n",
       "        6.64886583e-04, 3.05475651e-03, 6.01177011e-03],\n",
       "       [1.12285545e-02, 9.98566381e-03, 1.80531663e-03, ...,\n",
       "        6.46078335e-03, 8.54811543e-04, 9.50293546e-04],\n",
       "       [9.08913415e-03, 6.60333389e-03, 7.82412086e-03, ...,\n",
       "        7.58762685e-03, 9.72047887e-03, 1.08699649e-03]])"
      ]
     },
     "execution_count": 93,
     "metadata": {},
     "output_type": "execute_result"
    }
   ],
   "source": [
    "b"
   ]
  },
  {
   "cell_type": "code",
   "execution_count": null,
   "metadata": {},
   "outputs": [],
   "source": []
  },
  {
   "cell_type": "code",
   "execution_count": null,
   "metadata": {},
   "outputs": [],
   "source": []
  }
 ],
 "metadata": {
  "kernelspec": {
   "display_name": "Python 3",
   "language": "python",
   "name": "python3"
  },
  "language_info": {
   "codemirror_mode": {
    "name": "ipython",
    "version": 3
   },
   "file_extension": ".py",
   "mimetype": "text/x-python",
   "name": "python",
   "nbconvert_exporter": "python",
   "pygments_lexer": "ipython3",
   "version": "3.8.3"
  }
 },
 "nbformat": 4,
 "nbformat_minor": 4
}
